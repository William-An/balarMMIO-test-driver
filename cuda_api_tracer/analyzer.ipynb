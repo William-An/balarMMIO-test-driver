{
 "cells": [
  {
   "cell_type": "markdown",
   "metadata": {},
   "source": [
    "# SST Balar analyzer script"
   ]
  },
  {
   "cell_type": "code",
   "execution_count": 2,
   "metadata": {},
   "outputs": [],
   "source": [
    "# Import packages\n",
    "import json\n",
    "import matplotlib.pyplot as plt\n",
    "import numpy as np\n",
    "from common import *\n",
    "import logging\n",
    "from yaml import load, dump\n",
    "from optparse import OptionParser\n",
    "import yaml\n",
    "try:\n",
    "    from yaml import CLoader as Loader, CDumper as Dumper\n",
    "except ImportError:\n",
    "    from yaml import Loader, Dumper"
   ]
  },
  {
   "cell_type": "code",
   "execution_count": 3,
   "metadata": {},
   "outputs": [],
   "source": [
    "# Load app configuration var\n",
    "benchmark_suites_list = [\"GPU_Microbenchmark\", \"rodinia_2.0-ft\"]\n",
    "benchmark_suites_table = yaml.load(open(\"../define-all-apps.yml\"), Loader=Loader)\n",
    "trace_folder = \"./hw_traces\"\n",
    "root_logger = logging.getLogger()"
   ]
  },
  {
   "cell_type": "code",
   "execution_count": 4,
   "metadata": {},
   "outputs": [],
   "source": [
    "# Load stats files\n",
    "mmio_stats_file = \"mmio_stats.json\"\n",
    "original_stats_file = \"original_stats.json\"\n",
    "mmio_stats = json.load(open(mmio_stats_file))\n",
    "original_stats = json.load(open(original_stats_file))\n"
   ]
  },
  {
   "cell_type": "code",
   "execution_count": 5,
   "metadata": {},
   "outputs": [
    {
     "name": "stderr",
     "output_type": "stream",
     "text": [
      "Stats for app: mem_lat in GPU_Microbenchmark with args: NO_ARGS does not exist!\n",
      "Stats for app: shared_lat in GPU_Microbenchmark with args: NO_ARGS does not exist!\n",
      "SST TestCPU memcpyD2H ratio stat for app: l1_shared_bw in GPU_Microbenchmark with args: NO_ARGS does not exist!\n",
      "SST TestCPU memcpyD2H ratio stat for app: heartwall-rodinia-2.0-ft in rodinia_2.0-ft with args: __data_test_avi_1___data_result_1_txt does not exist!\n",
      "Stats for app: lud-rodinia-2.0-ft in rodinia_2.0-ft with args: _v__b__i___data_64_dat does not exist!\n",
      "SST TestCPU memcpyD2H ratio stat for app: streamcluster-rodinia-2.0-ft in rodinia_2.0-ft with args: 3_6_16_1024_1024_100_none_output_txt_1___data_result_3_6_16_1024_1024_100_none_1_txt does not exist!\n"
     ]
    },
    {
     "name": "stdout",
     "output_type": "stream",
     "text": [
      "l1_bw_32f-NO_ARGS correct byte ratio: avg: 0.3333333333333333 max: 1.0 min: 0.0\n",
      "l1_bw_64f-NO_ARGS correct byte ratio: avg: 0.3333333333333333 max: 1.0 min: 0.0\n",
      "l1_bw_128-NO_ARGS correct byte ratio: avg: 0.3333333333333333 max: 1.0 min: 0.0\n",
      "l1_lat-NO_ARGS correct byte ratio: avg: 0.125 max: 0.375 min: 0.0\n",
      "l1_lat-NO_ARGS correct byte ratio: avg: 0.125 max: 0.375 min: 0.0\n",
      "l2_bw_32f-NO_ARGS correct byte ratio: avg: 0.3342446666666667 max: 1.0 min: 0.001123\n",
      "l2_bw_64f-NO_ARGS correct byte ratio: avg: 0.334131 max: 1.0 min: 0.001025\n",
      "l2_lat-NO_ARGS correct byte ratio: avg: 0.125 max: 0.375 min: 0.0\n",
      "mem_bw-NO_ARGS correct byte ratio: avg: 0.337614 max: 1.0 min: 0.001563\n",
      "shared_bw-NO_ARGS correct byte ratio: avg: 0.3359373333333333 max: 1.0 min: 0.0\n",
      "MaxFlops-NO_ARGS correct byte ratio: avg: 0.3333333333333333 max: 1.0 min: 0.0\n",
      "l1_bw_32f_unroll-NO_ARGS correct byte ratio: avg: 0.3385416666666667 max: 1.0 min: 0.007812\n",
      "l1_bw_32f_unroll_large-NO_ARGS correct byte ratio: avg: 0.3333333333333333 max: 1.0 min: 0.0\n",
      "backprop-rodinia-2.0-ft-4096___data_result_4096_txt correct byte ratio: avg: 1.0 max: 1.0 min: 1.0\n",
      "bfs-rodinia-2.0-ft-__data_graph4096_txt___data_graph4096_result_txt correct byte ratio: avg: 1.0 max: 1.0 min: 1.0\n",
      "hotspot-rodinia-2.0-ft-30_6_40___data_result_30_6_40_txt correct byte ratio: avg: 0.529444 max: 0.529444 min: 0.529444\n",
      "nw-rodinia-2.0-ft-128_10___data_result_128_10_txt correct byte ratio: avg: 1.0 max: 1.0 min: 1.0\n",
      "nn-rodinia-2.0-ft-__data_filelist_4_3_30_90___data_filelist_4_3_30_90_result_txt correct byte ratio: avg: 0.99651675 max: 0.9967 min: 0.996267\n",
      "pathfinder-rodinia-2.0-ft-1000_20_5___data_result_1000_20_5_txt correct byte ratio: avg: 0.99575 max: 0.99575 min: 0.99575\n",
      "srad_v2-rodinia-2.0-ft-__data_matrix128x128_txt_0_127_0_127__5_2___data_result_matrix128x128_1_150_1_100__5_2_txt correct byte ratio: avg: 0.7803495 max: 0.784454 min: 0.776245\n"
     ]
    },
    {
     "data": {
      "text/plain": [
       "(array([ 3.,  0., 10.,  0.,  1.,  0.,  0.,  1.,  0.,  5.]),\n",
       " array([0.125 , 0.2125, 0.3   , 0.3875, 0.475 , 0.5625, 0.65  , 0.7375,\n",
       "        0.825 , 0.9125, 1.    ]),\n",
       " <BarContainer object of 10 artists>)"
      ]
     },
     "execution_count": 5,
     "metadata": {},
     "output_type": "execute_result"
    },
    {
     "data": {
      "image/png": "[encoded data removed]",
      "text/plain": [
       "<Figure size 432x288 with 1 Axes>"
      ]
     },
     "metadata": {
      "needs_background": "light"
     },
     "output_type": "display_data"
    }
   ],
   "source": [
    "\"\"\"Get the correct bytes ratio for all benchmarks\n",
    "\"\"\"\n",
    "avg_ratios = []\n",
    "for app_record in get_benchmark_app(benchmark_suites_list, trace_folder, benchmark_suites_table, root_logger):\n",
    "    benchmark_suite_name = app_record[\"benchmark_suite_name\"]\n",
    "    app_name = app_record[\"app_name\"]\n",
    "    app_args_name = get_argfoldername(app_record[\"app_args\"])\n",
    "\n",
    "    try:\n",
    "        app_specific_stat = mmio_stats[benchmark_suite_name][app_name][app_args_name]\n",
    "        sst_stat = app_specific_stat[\"sst\"]\n",
    "        gpgpusim_stat = app_specific_stat[\"gpgpusim\"]\n",
    "        # print(sst_stat.keys())\n",
    "        # print(gpgpusim_stat.keys())\n",
    "        try:\n",
    "            ratio_stat = sst_stat[\"cpu\"][\"correct_memD2H_ratio\"]\n",
    "            ratio_sum = ratio_stat[\"Sum.f64\"]\n",
    "            ratio_max = ratio_stat[\"Max.f64\"]\n",
    "            ratio_min = ratio_stat[\"Min.f64\"]\n",
    "            ratio_count = ratio_stat[\"Count.u64\"]\n",
    "            avg_ratio = ratio_sum / ratio_count\n",
    "            avg_ratios.append(avg_ratio)\n",
    "            print(f\"{app_name}-{app_args_name} correct byte ratio: avg: {avg_ratio} max: {ratio_max} min: {ratio_min}\")\n",
    "        except KeyError:\n",
    "            root_logger.warning(f\"SST TestCPU memcpyD2H ratio stat for app: {app_name} in {benchmark_suite_name} with args: {app_args_name} does not exist!\")\n",
    "    except KeyError:\n",
    "        root_logger.warning(f\"Stats for app: {app_name} in {benchmark_suite_name} with args: {app_args_name} does not exist!\")\n",
    "\n",
    "fig, ax = plt.subplots()\n",
    "ax.set_title(\"Average memcpyH2D correct ratio across all benchmarks: \\n{}\".format(\"-\".join(benchmark_suites_list)))\n",
    "ax.set_ylabel(\"Count\")\n",
    "ax.set_xlabel(\"Correct bytes ratio\")\n",
    "ax.grid(True)\n",
    "ax.hist(avg_ratios)"
   ]
  }
 ],
 "metadata": {
  "interpreter": {
   "hash": "cd7a13fd55a362c9807f6cfd540a57e69437adaaf6868eabc12ef595ef54c3be"
  },
  "kernelspec": {
   "display_name": "Python 3.6.9 ('venv': venv)",
   "language": "python",
   "name": "python3"
  },
  "language_info": {
   "codemirror_mode": {
    "name": "ipython",
    "version": 3
   },
   "file_extension": ".py",
   "mimetype": "text/x-python",
   "name": "python",
   "nbconvert_exporter": "python",
   "pygments_lexer": "ipython3",
   "version": "3.6.9"
  },
  "orig_nbformat": 4
 },
 "nbformat": 4,
 "nbformat_minor": 2
}
